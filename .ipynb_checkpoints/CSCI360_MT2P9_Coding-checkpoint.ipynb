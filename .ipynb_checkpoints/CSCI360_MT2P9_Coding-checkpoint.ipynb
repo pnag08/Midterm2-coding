{
 "cells": [
  {
   "cell_type": "markdown",
   "metadata": {
    "id": "S1qrIYEjTUCt"
   },
   "source": [
    "#### A: Download the car evaluation dataset from UCI Machine Learning Repository:\n",
    "https://archive.ics.uci.edu/dataset/19/car+evaluation"
   ]
  },
  {
   "cell_type": "markdown",
   "metadata": {
    "id": "wOCqmPe_Tljx"
   },
   "source": [
    "#### B: Use the first 80% data points in each class (unacceptable, acceptable, good, very good) as training data and the rest as test data."
   ]
  },
  {
   "cell_type": "code",
   "execution_count": 50,
   "metadata": {
    "id": "K9OhvbcrTqPZ"
   },
   "outputs": [
    {
     "name": "stdout",
     "output_type": "stream",
     "text": [
      "1728\n"
     ]
    }
   ],
   "source": [
    "### Your code here\n",
    "import pandas as pd\n",
    "\n",
    "column_names = ['buying', 'maint', 'doors', 'persons', 'lug_boot', 'safety', 'class']\n",
    "df = pd.read_csv('car.data', header=None, names=column_names)\n",
    "\n",
    "unacc = df[df['class'] == 'unacc']\n",
    "acc = df[df['class'] == 'acc']\n",
    "good = df[df['class'] == 'good']\n",
    "vgood = df[df['class'] == 'vgood']\n",
    "\n",
    "print(acc.shape[0] + unacc.shape[0] + good.shape[0] + vgood.shape[0])\n",
    "\n"
   ]
  },
  {
   "cell_type": "markdown",
   "metadata": {
    "id": "VDOHjeOYTuQj"
   },
   "source": [
    "#### C: Build a decision tree on the training set and plot it. Use gini index. If you are unsure about other hyperparameters of the algorithm, use sklearn’s default values."
   ]
  },
  {
   "cell_type": "code",
   "execution_count": 13,
   "metadata": {
    "id": "902BtVNIT1Fe"
   },
   "outputs": [],
   "source": [
    "### Your code here\n"
   ]
  },
  {
   "cell_type": "markdown",
   "metadata": {
    "id": "wSxMmT5OT3RH"
   },
   "source": [
    "#### D: Convert the decision rules into a set of IF-THEN rules"
   ]
  },
  {
   "cell_type": "code",
   "execution_count": 15,
   "metadata": {
    "id": "eG5CrVT_UD8_"
   },
   "outputs": [],
   "source": [
    "### Your code here\n"
   ]
  },
  {
   "cell_type": "markdown",
   "metadata": {
    "id": "Q5lRXkoYUIKW"
   },
   "source": [
    "#### E: Test the decision tree on your test set and report your test error"
   ]
  },
  {
   "cell_type": "code",
   "execution_count": 17,
   "metadata": {
    "id": "ynsIVKE-UNAa"
   },
   "outputs": [],
   "source": [
    "### Your code here\n"
   ]
  }
 ],
 "metadata": {
  "colab": {
   "provenance": []
  },
  "kernelspec": {
   "display_name": "Python 3 (ipykernel)",
   "language": "python",
   "name": "python3"
  },
  "language_info": {
   "codemirror_mode": {
    "name": "ipython",
    "version": 3
   },
   "file_extension": ".py",
   "mimetype": "text/x-python",
   "name": "python",
   "nbconvert_exporter": "python",
   "pygments_lexer": "ipython3",
   "version": "3.12.4"
  }
 },
 "nbformat": 4,
 "nbformat_minor": 4
}
